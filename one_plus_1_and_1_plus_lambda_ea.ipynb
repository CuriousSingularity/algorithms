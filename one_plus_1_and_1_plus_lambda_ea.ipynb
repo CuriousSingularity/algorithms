{
 "cells": [
  {
   "cell_type": "code",
   "execution_count": 1,
   "metadata": {},
   "outputs": [],
   "source": [
    "from dataclasses import dataclass\n",
    "import random\n",
    "from math import log\n",
    "import matplotlib.pyplot as plt\n",
    "import numpy as np"
   ]
  },
  {
   "cell_type": "markdown",
   "metadata": {},
   "source": [
    "# Individual \n",
    "\n",
    "\n",
    "The base unit of an evolutionary algorithm is the individual. An individual represents a single solution to the problem we want to solve. \n",
    "Indviduals contains:\n",
    "* genes or input\n",
    "* fitness or ouput\n",
    "\n",
    "\n",
    "Here we've defined a new type, Individual which has binary genes and an integer fitness. When we construct a new individual, we use random genes and set the default fitness to 0. For these examples we'll be using objective functions which have positive fitness values.\n"
   ]
  },
  {
   "cell_type": "code",
   "execution_count": 2,
   "metadata": {},
   "outputs": [
    {
     "name": "stdout",
     "output_type": "stream",
     "text": [
      "Individual(genes=[0, 0, 1, 0, 1, 1, 1, 0, 1, 0], fitness=0)\n"
     ]
    }
   ],
   "source": [
    "# Individual is are genes or input\n",
    "\n",
    "@dataclass\n",
    "class Individual:\n",
    "    genes : list\n",
    "    fitness : float = 0.0\n",
    "\n",
    "def CreateIndividual(n):\n",
    "    return Individual([random.getrandbits(1) for _ in range(n)],0)\n",
    "\n",
    "## Test\n",
    "n = 10\n",
    "ind = CreateIndividual(n)\n",
    "print(ind)"
   ]
  },
  {
   "cell_type": "markdown",
   "metadata": {},
   "source": [
    "# Objective fucntion\n",
    "An objective function is a function which gives a value to our individual. A strength of evolutionary algorithms is that this objective function can be anything as long as it evaluates the individual. Unlike other optimization methods, this function does not need to be differentiable or continuous."
   ]
  },
  {
   "cell_type": "markdown",
   "metadata": {},
   "source": [
    "## One Max Objective Function\n",
    "OneMax function, which simply adds all of the bits of the genotype. The optimal fitness for this function is therefore when the entire genotype is 1. This simple function has been well-studied and generalizes well to the search of any specific bit string."
   ]
  },
  {
   "cell_type": "code",
   "execution_count": 3,
   "metadata": {},
   "outputs": [
    {
     "data": {
      "text/plain": [
       "(Individual(genes=[0, 0, 1, 0, 1, 1, 1, 0, 1, 0], fitness=0), 5)"
      ]
     },
     "execution_count": 3,
     "metadata": {},
     "output_type": "execute_result"
    }
   ],
   "source": [
    "def onemax(ind:Individual):\n",
    "    return sum(ind.genes)\n",
    "\n",
    "ind, onemax(ind)"
   ]
  },
  {
   "cell_type": "markdown",
   "metadata": {},
   "source": [
    "\n",
    "\n",
    "As we can see, the fitness of our individual is the number of 1s in the function.\n"
   ]
  },
  {
   "cell_type": "markdown",
   "metadata": {},
   "source": [
    "# Fitness\n",
    "* Fitness is the output of the objective function\n",
    "* Fitness is the evaulation of the objective function given the individual"
   ]
  },
  {
   "cell_type": "markdown",
   "metadata": {},
   "source": [
    "\n",
    "In order to be more general later, we'll write an evaluate function which can take any objective function."
   ]
  },
  {
   "cell_type": "code",
   "execution_count": 4,
   "metadata": {},
   "outputs": [
    {
     "data": {
      "text/plain": [
       "Individual(genes=[0, 0, 1, 0, 1, 1, 1, 0, 1, 0], fitness=5)"
      ]
     },
     "execution_count": 4,
     "metadata": {},
     "output_type": "execute_result"
    }
   ],
   "source": [
    "def evaluate(ind : Individual, objective):\n",
    "    ind.fitness = objective(ind)\n",
    "    \n",
    "# test\n",
    "evaluate(ind, onemax)\n",
    "ind"
   ]
  },
  {
   "cell_type": "markdown",
   "metadata": {},
   "source": [
    "Now that we have our individuals defined and we have an objective function, we're ready to write our first evolutionary algorithm."
   ]
  },
  {
   "cell_type": "markdown",
   "metadata": {},
   "source": [
    "# (1+1) Evolutionary Algorithm\n",
    "\n",
    "The first algorithm we'll implement is the simplest evolutionary algorithm, the (1+1) Evolutionary Algorithm:\n",
    "\n",
    "Choose randomly an initial bit string $x∈ \\{0;1\\}$\n",
    "\n",
    "Repeat the following mutation step:\n",
    "* Compute $x′$ by flipping independently each bit $x_i$ with probability $p$\n",
    "* Replace $x$ by $x′$ if $f(x′) \\geq f(x)$.\n",
    "\n",
    "We'll start by defining the first random individual\n"
   ]
  },
  {
   "cell_type": "code",
   "execution_count": 5,
   "metadata": {},
   "outputs": [
    {
     "data": {
      "text/plain": [
       "Individual(genes=[1, 1, 1, 0, 1, 1, 1, 1, 0, 1], fitness=8)"
      ]
     },
     "execution_count": 5,
     "metadata": {},
     "output_type": "execute_result"
    }
   ],
   "source": [
    "parent = CreateIndividual(n)\n",
    "evaluate(parent, onemax)\n",
    "parent"
   ]
  },
  {
   "cell_type": "markdown",
   "metadata": {},
   "source": [
    "\n",
    "\n",
    "Let's define the mutation step as a function. This will make our code more organized and has the advantage that compilation will optimize this part of the code. We'll use the probability of $p=\\frac{1}{n}$, where $n$ is the number of bits. \n"
   ]
  },
  {
   "cell_type": "code",
   "execution_count": 6,
   "metadata": {},
   "outputs": [
    {
     "data": {
      "text/plain": [
       "(Individual(genes=[0, 0, 1, 0, 1, 1, 1, 0, 1, 0], fitness=5),\n",
       " Individual(genes=[0, 0, 1, 0, 1, 1, 0, 0, 1, 0], fitness=0))"
      ]
     },
     "execution_count": 6,
     "metadata": {},
     "output_type": "execute_result"
    }
   ],
   "source": [
    "def mutate(ind:Individual):\n",
    "    new_genes = list(ind.genes)\n",
    "    mutation_rate = 1.0/len(ind.genes)\n",
    "    \n",
    "    for index, _ in enumerate(new_genes):\n",
    "        if random.random() < mutation_rate:\n",
    "            new_genes[index] = ~ind.genes[index] & 1\n",
    "    \n",
    "    return Individual(new_genes, 0)\n",
    "\n",
    "# test\n",
    "new_genes = mutate(ind)\n",
    "ind, new_genes"
   ]
  },
  {
   "cell_type": "markdown",
   "metadata": {},
   "source": [
    "let's mutate the parent to get a child"
   ]
  },
  {
   "cell_type": "code",
   "execution_count": 7,
   "metadata": {},
   "outputs": [
    {
     "name": "stdout",
     "output_type": "stream",
     "text": [
      "True\n"
     ]
    }
   ],
   "source": [
    "child = mutate(parent)\n",
    "evaluate(child, onemax)\n",
    "print(parent.genes == child.genes)"
   ]
  },
  {
   "cell_type": "markdown",
   "metadata": {},
   "source": [
    "\n",
    "\n",
    "Try running this a few times and you'll see that most of the time, only one gene changes. That makes sense due to the $p=\\frac{1}{n}$ mutation rate we set. This means that evolution will move rather slowly towards the optimal bitstring, on average only 1 change at a time.\n",
    "\n",
    "Now that we have the new individual, we can do the last part of our algorithm: Replace $x$ by $x′$ if $f(x′) \\geq f(x)$.\n"
   ]
  },
  {
   "cell_type": "code",
   "execution_count": 8,
   "metadata": {},
   "outputs": [
    {
     "data": {
      "text/plain": [
       "8"
      ]
     },
     "execution_count": 8,
     "metadata": {},
     "output_type": "execute_result"
    }
   ],
   "source": [
    "if child.fitness >= parent.fitness:\n",
    "    parent = child\n",
    "    \n",
    "parent.fitness"
   ]
  },
  {
   "cell_type": "markdown",
   "metadata": {},
   "source": [
    "That's all there is to the (1+1) EA. We simply run this mutation step over and over until we reach the solution we want or stop the computation. Let's look at just a few iterations:"
   ]
  },
  {
   "cell_type": "code",
   "execution_count": 9,
   "metadata": {},
   "outputs": [
    {
     "name": "stdout",
     "output_type": "stream",
     "text": [
      "8\n"
     ]
    }
   ],
   "source": [
    "for i in range(5):\n",
    "    child = mutate(parent)\n",
    "    evaluate(child, onemax)\n",
    "    if child.fitness >= parent.fitness:\n",
    "        parent = child\n",
    "        \n",
    "print(parent.fitness)"
   ]
  },
  {
   "cell_type": "markdown",
   "metadata": {},
   "source": [
    "So in a few generations, we can see improvement. To study how long it will take for this to reach the OneMax solution, let's first define everything we've done until now as a function."
   ]
  },
  {
   "cell_type": "code",
   "execution_count": 10,
   "metadata": {},
   "outputs": [],
   "source": [
    "def one_plus_one(ind_length:int, num_generations: int, f):\n",
    "    fits = [0] * num_generations\n",
    "    parent = CreateIndividual(ind_length)\n",
    "    evaluate(parent, f)\n",
    "    \n",
    "    for index, _ in enumerate(fits):\n",
    "        child = mutate(parent)\n",
    "        evaluate(child, f)\n",
    "        \n",
    "        if child.fitness >= parent.fitness:\n",
    "            parent = child\n",
    "        \n",
    "        fits[index] = parent.fitness\n",
    "    \n",
    "    return fits      "
   ]
  },
  {
   "cell_type": "markdown",
   "metadata": {},
   "source": [
    "\n",
    "\n",
    "Since evolutionary algorithms are stochastic, it's hard to guarantee their exact computational complexity. You can prove the worst case, but a more useful metric is the expected number of generations to reach the optimal solution. For linear objective functions such as the OneMax problem, the expected runtime for the (1+1) EA has been proven to to be $0(n \\log n)$, where $n$ is the number of independent binary variables (ie, the length of the genome). This proof is beyond the scope of this class, but I recommend looking at the linked publications in this notebook. Note that this is only for the case of a mutation rate of $\\frac{1}{n}$, which is why we used it as our default value before.\n"
   ]
  },
  {
   "cell_type": "markdown",
   "metadata": {},
   "source": [
    "Let's run our (1+1) EA with $n \\log n$ as our number of generations."
   ]
  },
  {
   "cell_type": "code",
   "execution_count": 11,
   "metadata": {},
   "outputs": [
    {
     "name": "stdout",
     "output_type": "stream",
     "text": [
      "979\n"
     ]
    },
    {
     "data": {
      "text/plain": [
       "[<matplotlib.lines.Line2D at 0x22df8c85b08>]"
      ]
     },
     "execution_count": 11,
     "metadata": {},
     "output_type": "execute_result"
    },
    {
     "data": {
      "image/png": "[encoded data removed]",
      "text/plain": [
       "<Figure size 432x288 with 1 Axes>"
      ]
     },
     "metadata": {
      "needs_background": "light"
     },
     "output_type": "display_data"
    }
   ],
   "source": [
    "n = 1000\n",
    "fits = one_plus_one(n, int(n*log(n)), onemax)\n",
    "print(fits[len(fits) - 1])\n",
    "plt.plot(fits)"
   ]
  },
  {
   "cell_type": "markdown",
   "metadata": {},
   "source": [
    "This isn't yet $n$ but its very close, which is what the expected time guarantees: $n \\log n$ is the average value of when the (1+1) EA converges. The worst case for a binary (1+1) EA on any function is to converge in $O(n^n)$, but we don't need to run it for that long to see convergence."
   ]
  },
  {
   "cell_type": "code",
   "execution_count": 12,
   "metadata": {},
   "outputs": [
    {
     "name": "stdout",
     "output_type": "stream",
     "text": [
      "999\n"
     ]
    },
    {
     "data": {
      "text/plain": [
       "[<matplotlib.lines.Line2D at 0x22dfcb18f48>]"
      ]
     },
     "execution_count": 12,
     "metadata": {},
     "output_type": "execute_result"
    },
    {
     "data": {
      "image/png": "[encoded data removed]",
      "text/plain": [
       "<Figure size 432x288 with 1 Axes>"
      ]
     },
     "metadata": {
      "needs_background": "light"
     },
     "output_type": "display_data"
    }
   ],
   "source": [
    "n = 1000\n",
    "fits = one_plus_one(n, 20000, onemax)\n",
    "print(fits[len(fits) - 1])\n",
    "plt.plot(fits)"
   ]
  },
  {
   "cell_type": "markdown",
   "metadata": {},
   "source": [
    "# Objective Function - Leading Ones\n",
    "\n",
    "The Leading Ones problem is another well-studied binary problem which counts the number of leading ones from left to right, stopping when the first zero-bit is found. In other words, the fitness of this function is:\n",
    "\n",
    "$f(x) := \\sum_{i=1}^n \\prod_{j=1}^1 x_j$\n",
    "\n",
    "In our implementation, we'll just count the indices and stop when we reach a 0.\n"
   ]
  },
  {
   "cell_type": "code",
   "execution_count": 13,
   "metadata": {},
   "outputs": [],
   "source": [
    "def leading_ones(ind:Individual):\n",
    "    f = 0\n",
    "    \n",
    "    for index, _ in enumerate(ind.genes):\n",
    "        if ~ind.genes[index] & 1:\n",
    "            f = index + 1\n",
    "            break\n",
    "    \n",
    "    return f"
   ]
  },
  {
   "cell_type": "markdown",
   "metadata": {},
   "source": [
    "Run the (1+1) EA on the Leading Ones problem. Does it converge near $0(n \\log n)$, or $O(n^2)$? "
   ]
  },
  {
   "cell_type": "code",
   "execution_count": 14,
   "metadata": {},
   "outputs": [
    {
     "name": "stdout",
     "output_type": "stream",
     "text": [
      "17\n"
     ]
    },
    {
     "data": {
      "text/plain": [
       "[<matplotlib.lines.Line2D at 0x22dfcf09948>]"
      ]
     },
     "execution_count": 14,
     "metadata": {},
     "output_type": "execute_result"
    },
    {
     "data": {
      "image/png": "[encoded data removed]",
      "text/plain": [
       "<Figure size 432x288 with 1 Axes>"
      ]
     },
     "metadata": {
      "needs_background": "light"
     },
     "output_type": "display_data"
    }
   ],
   "source": [
    "n = 1000\n",
    "fits = one_plus_one(n, int(n*log(n)), leading_ones)\n",
    "print(fits[len(fits) - 1])\n",
    "plt.plot(fits)"
   ]
  },
  {
   "cell_type": "code",
   "execution_count": 15,
   "metadata": {},
   "outputs": [
    {
     "name": "stdout",
     "output_type": "stream",
     "text": [
      "100\n"
     ]
    },
    {
     "data": {
      "text/plain": [
       "[<matplotlib.lines.Line2D at 0x22dfcf43908>]"
      ]
     },
     "execution_count": 15,
     "metadata": {},
     "output_type": "execute_result"
    },
    {
     "data": {
      "image/png": "[encoded data removed]",
      "text/plain": [
       "<Figure size 432x288 with 1 Axes>"
      ]
     },
     "metadata": {
      "needs_background": "light"
     },
     "output_type": "display_data"
    }
   ],
   "source": [
    "n = 100\n",
    "fits = one_plus_one(n, n**2, leading_ones)\n",
    "print(fits[len(fits) - 1])\n",
    "plt.plot(fits)"
   ]
  },
  {
   "cell_type": "markdown",
   "metadata": {},
   "source": [
    "\n",
    "$(1+\\lambda)$ Evolutionary Algorithm\n",
    "\n",
    "The next algorithm that we'll see is a small change on the (1+1) EA. Instead of generating one individual each iteration (generation) we'll make $\\lambda$. This can be considered our population. This small change means the $(1+\\lambda)$ algorithm is still very simple, but this simple algorithm is used in state-of-the-art Genetic Programming methods to do perform complex tasks.\n",
    "\n",
    "The $(1+\\lambda) EA$ introduces a new parameter: population size. What should we choose for this parameter? Recent theoretical work has demonstrated that the expected running time of the $(1+\\lambda)$ EA on any linear function is $O(\\frac{1}{λ} n \\log n + n)$ under the condition that $\\lambda = O(\\log n \\log \\log n / \\log \\log \\log n)$. We could try that.\n"
   ]
  },
  {
   "cell_type": "code",
   "execution_count": 16,
   "metadata": {},
   "outputs": [
    {
     "data": {
      "text/plain": [
       "17"
      ]
     },
     "execution_count": 16,
     "metadata": {},
     "output_type": "execute_result"
    }
   ],
   "source": [
    "n = 100\n",
    "𝜆 = int(round(log(n)*log(log(n))/log(log(log(n)))))\n",
    "𝜆"
   ]
  },
  {
   "cell_type": "markdown",
   "metadata": {},
   "source": [
    "But let's keep things simple and just use 10."
   ]
  },
  {
   "cell_type": "code",
   "execution_count": 17,
   "metadata": {},
   "outputs": [],
   "source": [
    "𝜆 = 10"
   ]
  },
  {
   "cell_type": "markdown",
   "metadata": {},
   "source": [
    "We'll rewrite our one_plus_one function, this time using a population of individuals. We'll keep track of the best new individual in order to compare it with the expert(parent) for replacement in the next generation."
   ]
  },
  {
   "cell_type": "code",
   "execution_count": 18,
   "metadata": {},
   "outputs": [],
   "source": [
    "def one_plus_lambda(ind_length:int, num_generations:int, f, 𝜆:int):\n",
    "    \n",
    "    fits = [0]*(num_generations)\n",
    "    expert = CreateIndividual(ind_length)\n",
    "    evaluate(expert, f)\n",
    "    \n",
    "    for index, _ in enumerate(fits):\n",
    "        population = [CreateIndividual(ind_length) for _ in range(𝜆)]\n",
    "        best = 0\n",
    "        for j, _ in enumerate(population):\n",
    "            population[j] = mutate(expert)\n",
    "            evaluate(population[j], f)\n",
    "            if population[j].fitness > population[best].fitness:\n",
    "                best = j\n",
    "        \n",
    "        if population[best].fitness >= expert.fitness:\n",
    "            expert = population[best]\n",
    "\n",
    "        fits[index] = expert.fitness\n",
    "    return fits"
   ]
  },
  {
   "cell_type": "markdown",
   "metadata": {},
   "source": [
    "\n",
    "\n",
    "Let's see how these two methods compare on the OneMax problem.\n"
   ]
  },
  {
   "cell_type": "code",
   "execution_count": 19,
   "metadata": {},
   "outputs": [
    {
     "data": {
      "text/plain": [
       "(100, 100)"
      ]
     },
     "execution_count": 19,
     "metadata": {},
     "output_type": "execute_result"
    }
   ],
   "source": [
    "n = 100\n",
    "n_gens = 1000\n",
    "fits_1 = one_plus_one(n, n_gens, onemax)\n",
    "fits_𝜆 = one_plus_lambda(n, n_gens, onemax, 𝜆)\n",
    "fits_1[-1], fits_𝜆[-1]"
   ]
  },
  {
   "cell_type": "code",
   "execution_count": 20,
   "metadata": {},
   "outputs": [
    {
     "data": {
      "text/plain": [
       "<matplotlib.legend.Legend at 0x22dfcfa1308>"
      ]
     },
     "execution_count": 20,
     "metadata": {},
     "output_type": "execute_result"
    },
    {
     "data": {
      "image/png": "[encoded data removed]",
      "text/plain": [
       "<Figure size 432x288 with 1 Axes>"
      ]
     },
     "metadata": {
      "needs_background": "light"
     },
     "output_type": "display_data"
    }
   ],
   "source": [
    "plt.plot(fits_1, label=\"1+1\")\n",
    "plt.plot(fits_λ, label=\"1+λ\")\n",
    "plt.legend(loc=\"lower right\")"
   ]
  },
  {
   "cell_type": "markdown",
   "metadata": {},
   "source": [
    "\n",
    "\n",
    "A more fair comparison would be to give each algorithm the same number of function evaluations, like this:\n"
   ]
  },
  {
   "cell_type": "code",
   "execution_count": 21,
   "metadata": {},
   "outputs": [
    {
     "data": {
      "text/plain": [
       "(10000, 1000)"
      ]
     },
     "execution_count": 21,
     "metadata": {},
     "output_type": "execute_result"
    },
    {
     "data": {
      "image/png": "[encoded data removed]",
      "text/plain": [
       "<Figure size 432x288 with 1 Axes>"
      ]
     },
     "metadata": {
      "needs_background": "light"
     },
     "output_type": "display_data"
    }
   ],
   "source": [
    "n = 1000\n",
    "n_gens = 10000\n",
    "fits_1 = one_plus_one(n, n_gens, onemax)\n",
    "fits_𝜆 = one_plus_lambda(n, int(n_gens/𝜆), onemax, 𝜆)\n",
    "plt.plot(fits_1, label=\"1+1\")\n",
    "plt.plot(range(0,n_gens,𝜆),fits_𝜆, label=\"1+λ\")\n",
    "plt.legend(loc=\"lower right\")\n",
    "len(fits_1), len(fits_𝜆)"
   ]
  },
  {
   "cell_type": "markdown",
   "metadata": {},
   "source": [
    "\n",
    "\n",
    "Because evolutionary algorithms are entirely based on randomness, it is a good practice to run them multiple times to have an idea about their performance. We'll run this 10 times, but more is often a good idea, depending on the distribution of final results.\n"
   ]
  },
  {
   "cell_type": "code",
   "execution_count": 22,
   "metadata": {},
   "outputs": [],
   "source": [
    "n_trials = 10\n",
    "n = 100\n",
    "n_gens = 1000\n",
    "\n",
    "fits_1 = np.zeros((n_trials, n_gens))\n",
    "fits_𝜆 = np.zeros((n_trials, int(n_gens/𝜆)))\n",
    "\n",
    "for i in range(n_trials):\n",
    "    fits_1[i,:] = one_plus_one(n, n_gens, onemax)\n",
    "    fits_𝜆[i,:] = one_plus_lambda(n, int(n_gens/𝜆), onemax, 𝜆)"
   ]
  },
  {
   "cell_type": "code",
   "execution_count": 23,
   "metadata": {},
   "outputs": [
    {
     "data": {
      "text/plain": [
       "<matplotlib.legend.Legend at 0x22dfd01de88>"
      ]
     },
     "execution_count": 23,
     "metadata": {},
     "output_type": "execute_result"
    },
    {
     "data": {
      "image/png": "[encoded data removed]",
      "text/plain": [
       "<Figure size 432x288 with 1 Axes>"
      ]
     },
     "metadata": {
      "needs_background": "light"
     },
     "output_type": "display_data"
    }
   ],
   "source": [
    "μ_1 = np.mean(fits_1, axis=0)\n",
    "σ_1 = np.std(fits_1, axis=0)\n",
    "μ_𝜆 = np.mean(fits_𝜆, axis=0)\n",
    "σ_𝜆 = np.std(fits_𝜆, axis=0)\n",
    "plt.plot(range(0,n_gens), μ_1, label=\"1+1\")\n",
    "plt.fill_between(range(0,n_gens), μ_1-σ_1, μ_1+σ_1)\n",
    "plt.plot(range(0,n_gens,𝜆), μ_𝜆, label=\"1+λ\")\n",
    "plt.fill_between(range(0,n_gens,𝜆), μ_𝜆-σ_𝜆, μ_𝜆+σ_𝜆)\n",
    "plt.legend(loc=\"lower right\")"
   ]
  },
  {
   "cell_type": "markdown",
   "metadata": {},
   "source": [
    "Compare the (1+1) EA and $(1+\\lambda)$ EA on the Leading Ones problem "
   ]
  },
  {
   "cell_type": "code",
   "execution_count": 24,
   "metadata": {},
   "outputs": [
    {
     "data": {
      "text/plain": [
       "(10000, 1000)"
      ]
     },
     "execution_count": 24,
     "metadata": {},
     "output_type": "execute_result"
    },
    {
     "data": {
      "image/png": "[encoded data removed]",
      "text/plain": [
       "<Figure size 432x288 with 1 Axes>"
      ]
     },
     "metadata": {
      "needs_background": "light"
     },
     "output_type": "display_data"
    }
   ],
   "source": [
    "n = 100\n",
    "n_gens = 10000\n",
    "fits_1 = one_plus_one(n, n_gens, leading_ones)\n",
    "fits_𝜆 = one_plus_lambda(n, int(n_gens/𝜆), leading_ones, 𝜆)\n",
    "plt.plot(fits_1, label=\"1+1\")\n",
    "plt.plot(range(0,n_gens,𝜆),fits_𝜆, label=\"1+λ\")\n",
    "plt.legend(loc=\"lower right\")\n",
    "len(fits_1), len(fits_𝜆)"
   ]
  },
  {
   "cell_type": "code",
   "execution_count": 25,
   "metadata": {},
   "outputs": [],
   "source": [
    "n_trials = 10\n",
    "n = 100\n",
    "n_gens = 10000\n",
    "\n",
    "fits_1 = np.zeros((n_trials, n_gens))\n",
    "fits_𝜆 = np.zeros((n_trials, int(n_gens/𝜆)))\n",
    "\n",
    "for i in range(n_trials):\n",
    "    fits_1[i,:] = one_plus_one(n, n_gens, leading_ones)\n",
    "    fits_𝜆[i,:] = one_plus_lambda(n, int(n_gens/𝜆), leading_ones, 𝜆)"
   ]
  },
  {
   "cell_type": "code",
   "execution_count": 26,
   "metadata": {},
   "outputs": [
    {
     "data": {
      "text/plain": [
       "<matplotlib.legend.Legend at 0x22dfe16dd48>"
      ]
     },
     "execution_count": 26,
     "metadata": {},
     "output_type": "execute_result"
    },
    {
     "data": {
      "image/png": "[encoded data removed]",
      "text/plain": [
       "<Figure size 432x288 with 1 Axes>"
      ]
     },
     "metadata": {
      "needs_background": "light"
     },
     "output_type": "display_data"
    }
   ],
   "source": [
    "μ_1 = np.mean(fits_1, axis=0)\n",
    "σ_1 = np.std(fits_1, axis=0)\n",
    "μ_𝜆 = np.mean(fits_𝜆, axis=0)\n",
    "σ_𝜆 = np.std(fits_𝜆, axis=0)\n",
    "plt.plot(range(0,n_gens), μ_1, label=\"1+1\")\n",
    "plt.fill_between(range(0,n_gens), μ_1-σ_1, μ_1+σ_1)\n",
    "plt.plot(range(0,n_gens,𝜆), μ_𝜆, label=\"1+λ\")\n",
    "plt.fill_between(range(0,n_gens,𝜆), μ_𝜆-σ_𝜆, μ_𝜆+σ_𝜆)\n",
    "plt.legend(loc=\"lower right\")"
   ]
  },
  {
   "cell_type": "markdown",
   "metadata": {},
   "source": [
    "\n",
    "# Continuous optimization\n",
    "\n",
    "So far we've looked at the case of binary functions. However, these algorithms can be used for any objective function and genotype definition. Let's look at the case of continuous optimization, which optimized over real numbers. For that, we'll need to define a new Individual type. Instead of random bits, this individual will have random numbers for its genes. We'll look at the case of uniformly distributed random numbers between 0 and 1.\n"
   ]
  },
  {
   "cell_type": "code",
   "execution_count": 27,
   "metadata": {},
   "outputs": [
    {
     "data": {
      "text/plain": [
       "FloatIndividual(genes=[0.7292815300200683, 0.7269133126885162, 0.5901208495707426, 0.3043981135179423, 0.36638507303998, 0.6071319701099074, 0.7959137755901096, 0.7046114961985643, 0.884905193409626, 0.6513488064806404], fitness=0)"
      ]
     },
     "execution_count": 27,
     "metadata": {},
     "output_type": "execute_result"
    }
   ],
   "source": [
    "@dataclass\n",
    "class FloatIndividual:\n",
    "    genes : list\n",
    "    fitness : float = 0\n",
    "    \n",
    "def CreateFloatIndividual(n:int):\n",
    "    return FloatIndividual([random.random() for _ in range(n)], 0)\n",
    "\n",
    "# test\n",
    "n = 10\n",
    "ind = CreateFloatIndividual(n)\n",
    "ind"
   ]
  },
  {
   "cell_type": "markdown",
   "metadata": {},
   "source": [
    "We also need to define a new mutation function. Instead of flipping bits, we'll just draw a new random number."
   ]
  },
  {
   "cell_type": "code",
   "execution_count": 28,
   "metadata": {},
   "outputs": [
    {
     "name": "stdout",
     "output_type": "stream",
     "text": [
      "False\n"
     ]
    }
   ],
   "source": [
    "def mutate(ind:FloatIndividual):\n",
    "    new_genes = list(ind.genes)\n",
    "    mutation_rate = 1.0/len(ind.genes)\n",
    "    \n",
    "    for index, _ in enumerate(new_genes):\n",
    "        if random.random() < 1:#mutation_rate:\n",
    "            new_genes[index] = random.random()\n",
    "    \n",
    "    return FloatIndividual(new_genes, 0)\n",
    "\n",
    "child = mutate(ind)\n",
    "print(ind.genes == child.genes)"
   ]
  },
  {
   "cell_type": "markdown",
   "metadata": {},
   "source": [
    "One of the most classic continuous optimization problems is the sphere function. This function simply gives the distance from an optimal point in all dimensions."
   ]
  },
  {
   "cell_type": "code",
   "execution_count": 29,
   "metadata": {},
   "outputs": [
    {
     "data": {
      "text/plain": [
       "<mpl_toolkits.mplot3d.art3d.Poly3DCollection at 0x22dfe242f48>"
      ]
     },
     "execution_count": 29,
     "metadata": {},
     "output_type": "execute_result"
    },
    {
     "data": {
      "image/png": "[encoded data removed]",
      "text/plain": [
       "<Figure size 432x288 with 1 Axes>"
      ]
     },
     "metadata": {
      "needs_background": "light"
     },
     "output_type": "display_data"
    }
   ],
   "source": [
    "x = np.linspace(0,1,10)\n",
    "y = np.linspace(0,1,10)\n",
    "X, Y = np.meshgrid(x,y)\n",
    "fz = (X-0.5)**2 + (Y-0.5)**2\n",
    "\n",
    "from mpl_toolkits.mplot3d import Axes3D\n",
    "from matplotlib import cm\n",
    "fig = plt.figure()\n",
    "ax = fig.gca(projection='3d')\n",
    "ax.plot_surface(X, Y, fz, color='r')"
   ]
  },
  {
   "cell_type": "code",
   "execution_count": 30,
   "metadata": {},
   "outputs": [
    {
     "data": {
      "text/plain": [
       "-0.4802610408298984"
      ]
     },
     "execution_count": 30,
     "metadata": {},
     "output_type": "execute_result"
    }
   ],
   "source": [
    "def sphere(ind:FloatIndividual, center:float = 0.5):\n",
    "    f = 0\n",
    "    for g in ind.genes:\n",
    "        f += (g - center)**2\n",
    "    return -f\n",
    "\n",
    "sphere(ind)"
   ]
  },
  {
   "cell_type": "markdown",
   "metadata": {},
   "source": [
    "# Exercise\n",
    "Use the FloatIndividual to compare the (1+1) EA and $(1+\\lambda)$ EA on the sphere problem. You'll need to change the definition of one_plus_one and one_plus_lambda to use the FloatIndividual type. "
   ]
  },
  {
   "cell_type": "code",
   "execution_count": 31,
   "metadata": {},
   "outputs": [],
   "source": [
    "def one_plus_one(ind_length:int, num_generations: int, f):\n",
    "    fits = [0] * num_generations\n",
    "    parent = CreateFloatIndividual(ind_length)\n",
    "    evaluate(parent, f)\n",
    "    \n",
    "    for index, _ in enumerate(fits):\n",
    "        child = mutate(parent)\n",
    "        evaluate(child, f)\n",
    "        \n",
    "        if child.fitness >= parent.fitness:\n",
    "            parent = child\n",
    "        \n",
    "        fits[index] = parent.fitness\n",
    "    \n",
    "    return fits     "
   ]
  },
  {
   "cell_type": "code",
   "execution_count": 32,
   "metadata": {},
   "outputs": [],
   "source": [
    "def one_plus_lambda(ind_length:int, num_generations:int, f, 𝜆:int):\n",
    "    \n",
    "    fits = [0]*(num_generations)\n",
    "    expert = CreateFloatIndividual(ind_length)\n",
    "    evaluate(expert, f)\n",
    "    \n",
    "    for index, _ in enumerate(fits):\n",
    "        population = [CreateIndividual(ind_length) for _ in range(𝜆)]\n",
    "        best = 0\n",
    "        for j, _ in enumerate(population):\n",
    "            population[j] = mutate(expert)\n",
    "            evaluate(population[j], f)\n",
    "            if population[j].fitness > population[best].fitness:\n",
    "                best = j\n",
    "        \n",
    "        if population[best].fitness >= expert.fitness:\n",
    "            expert = population[best]\n",
    "\n",
    "        fits[index] = expert.fitness\n",
    "    return fits"
   ]
  },
  {
   "cell_type": "code",
   "execution_count": 33,
   "metadata": {},
   "outputs": [
    {
     "data": {
      "text/plain": [
       "<matplotlib.legend.Legend at 0x22dfe765e88>"
      ]
     },
     "execution_count": 33,
     "metadata": {},
     "output_type": "execute_result"
    },
    {
     "data": {
      "image/png": "[encoded data removed]",
      "text/plain": [
       "<Figure size 432x288 with 1 Axes>"
      ]
     },
     "metadata": {
      "needs_background": "light"
     },
     "output_type": "display_data"
    }
   ],
   "source": [
    "n = 10\n",
    "n_gens = 10000\n",
    "fits_1 = one_plus_one(n, n_gens, sphere)\n",
    "fits_𝜆 = one_plus_lambda(n, int(n_gens/𝜆), sphere, 𝜆)\n",
    "plt.plot(fits_1, label=\"1+1\")\n",
    "plt.plot(range(0,n_gens,𝜆),fits_𝜆, label=\"1+λ\")\n",
    "plt.legend(loc=\"lower right\")"
   ]
  },
  {
   "cell_type": "code",
   "execution_count": null,
   "metadata": {},
   "outputs": [],
   "source": []
  }
 ],
 "metadata": {
  "kernelspec": {
   "display_name": "Python 3",
   "language": "python",
   "name": "python3"
  },
  "language_info": {
   "codemirror_mode": {
    "name": "ipython",
    "version": 3
   },
   "file_extension": ".py",
   "mimetype": "text/x-python",
   "name": "python",
   "nbconvert_exporter": "python",
   "pygments_lexer": "ipython3",
   "version": "3.7.4"
  }
 },
 "nbformat": 4,
 "nbformat_minor": 2
}
